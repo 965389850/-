{
 "cells": [
  {
   "cell_type": "code",
   "execution_count": 1,
   "metadata": {},
   "outputs": [],
   "source": [
    "import pandas as pd"
   ]
  },
  {
   "cell_type": "code",
   "execution_count": 2,
   "metadata": {},
   "outputs": [],
   "source": [
    "data = pd.read_csv(\"smp2020dataset/train/usual_train.csv\").astype(str)"
   ]
  },
  {
   "cell_type": "code",
   "execution_count": 3,
   "metadata": {},
   "outputs": [],
   "source": [
    "data.drop('数据编号',axis=1, inplace=True)"
   ]
  },
  {
   "cell_type": "code",
   "execution_count": 4,
   "metadata": {},
   "outputs": [
    {
     "data": {
      "text/html": [
       "<div>\n",
       "<style scoped>\n",
       "    .dataframe tbody tr th:only-of-type {\n",
       "        vertical-align: middle;\n",
       "    }\n",
       "\n",
       "    .dataframe tbody tr th {\n",
       "        vertical-align: top;\n",
       "    }\n",
       "\n",
       "    .dataframe thead th {\n",
       "        text-align: right;\n",
       "    }\n",
       "</style>\n",
       "<table border=\"1\" class=\"dataframe\">\n",
       "  <thead>\n",
       "    <tr style=\"text-align: right;\">\n",
       "      <th></th>\n",
       "      <th>文本</th>\n",
       "      <th>情绪标签</th>\n",
       "    </tr>\n",
       "  </thead>\n",
       "  <tbody>\n",
       "    <tr>\n",
       "      <th>0</th>\n",
       "      <td>气死姐姐了，快二是阵亡了吗，尼玛，一个半小时过去了也没上车</td>\n",
       "      <td>angry</td>\n",
       "    </tr>\n",
       "    <tr>\n",
       "      <th>1</th>\n",
       "      <td>妞妞啊，今天又承办了一个发文登记文号是126~嘻~么么哒~晚安哟</td>\n",
       "      <td>happy</td>\n",
       "    </tr>\n",
       "    <tr>\n",
       "      <th>2</th>\n",
       "      <td>这里还值得注意另一个事实，就是张鞠存原有一个东溪草堂为其读书处。</td>\n",
       "      <td>neutral</td>\n",
       "    </tr>\n",
       "    <tr>\n",
       "      <th>3</th>\n",
       "      <td>这在前华约国家(尤其是东德)使用R-73的首次联合演习期间，被一些北约组织的飞行员所证实。</td>\n",
       "      <td>neutral</td>\n",
       "    </tr>\n",
       "    <tr>\n",
       "      <th>4</th>\n",
       "      <td>TinyThief上wii了?！</td>\n",
       "      <td>surprise</td>\n",
       "    </tr>\n",
       "    <tr>\n",
       "      <th>...</th>\n",
       "      <td>...</td>\n",
       "      <td>...</td>\n",
       "    </tr>\n",
       "    <tr>\n",
       "      <th>27763</th>\n",
       "      <td>生日礼物你也已经收到了，那么就在说一句：生日快乐</td>\n",
       "      <td>happy</td>\n",
       "    </tr>\n",
       "    <tr>\n",
       "      <th>27764</th>\n",
       "      <td>自我、霸道、任性、不服从才是真正的我，百顺百从、没有想法那个她不是我，我只是一直在忍着，只想...</td>\n",
       "      <td>sad</td>\n",
       "    </tr>\n",
       "    <tr>\n",
       "      <th>27765</th>\n",
       "      <td>心情本来就不好，某只猪还不同意我年休，还说我一还好今天晚上不用参加考试</td>\n",
       "      <td>angry</td>\n",
       "    </tr>\n",
       "    <tr>\n",
       "      <th>27766</th>\n",
       "      <td>#昆明治安#为何如此糟糕？@姚志宏DD？半年，我们10个同事中，2家遭到入室盗窃，住在财经大...</td>\n",
       "      <td>angry</td>\n",
       "    </tr>\n",
       "    <tr>\n",
       "      <th>27767</th>\n",
       "      <td>《狂人日记》在伊藤虎丸这里也被理解为一个转折性的文本。</td>\n",
       "      <td>neutral</td>\n",
       "    </tr>\n",
       "  </tbody>\n",
       "</table>\n",
       "<p>27768 rows × 2 columns</p>\n",
       "</div>"
      ],
      "text/plain": [
       "                                                      文本      情绪标签\n",
       "0                          气死姐姐了，快二是阵亡了吗，尼玛，一个半小时过去了也没上车     angry\n",
       "1                       妞妞啊，今天又承办了一个发文登记文号是126~嘻~么么哒~晚安哟     happy\n",
       "2                       这里还值得注意另一个事实，就是张鞠存原有一个东溪草堂为其读书处。   neutral\n",
       "3          这在前华约国家(尤其是东德)使用R-73的首次联合演习期间，被一些北约组织的飞行员所证实。   neutral\n",
       "4                                       TinyThief上wii了?！  surprise\n",
       "...                                                  ...       ...\n",
       "27763                           生日礼物你也已经收到了，那么就在说一句：生日快乐     happy\n",
       "27764  自我、霸道、任性、不服从才是真正的我，百顺百从、没有想法那个她不是我，我只是一直在忍着，只想...       sad\n",
       "27765                心情本来就不好，某只猪还不同意我年休，还说我一还好今天晚上不用参加考试     angry\n",
       "27766  #昆明治安#为何如此糟糕？@姚志宏DD？半年，我们10个同事中，2家遭到入室盗窃，住在财经大...     angry\n",
       "27767                        《狂人日记》在伊藤虎丸这里也被理解为一个转折性的文本。   neutral\n",
       "\n",
       "[27768 rows x 2 columns]"
      ]
     },
     "execution_count": 4,
     "metadata": {},
     "output_type": "execute_result"
    }
   ],
   "source": [
    "data"
   ]
  },
  {
   "cell_type": "code",
   "execution_count": 7,
   "metadata": {},
   "outputs": [
    {
     "data": {
      "text/plain": [
       "array(['angry', 'happy', 'neutral', 'surprise', 'sad', 'fear'],\n",
       "      dtype=object)"
      ]
     },
     "execution_count": 7,
     "metadata": {},
     "output_type": "execute_result"
    }
   ],
   "source": [
    "data['情绪标签'].unique()"
   ]
  },
  {
   "cell_type": "code",
   "execution_count": 5,
   "metadata": {},
   "outputs": [
    {
     "name": "stderr",
     "output_type": "stream",
     "text": [
      "Building prefix dict from the default dictionary ...\n",
      "Dumping model to file cache /var/folders/s9/b33d8sfd6c3626p96qkb_s240000gn/T/jieba.cache\n",
      "Loading model cost 0.290 seconds.\n",
      "Prefix dict has been built successfully.\n"
     ]
    },
    {
     "name": "stdout",
     "output_type": "stream",
     "text": [
      "输出词频前十的词：\n",
      " [('龟速', 57960), ('龟肉', 57959), ('龟策', 57958), ('龟毛', 57957), ('龟头', 57956), ('龟兹', 57955), ('龟儿子', 57954), ('龚自珍', 57953), ('龙骨', 57952), ('龙骑', 57951)]\n"
     ]
    }
   ],
   "source": [
    "from functions import *\n",
    "\n",
    "word,tfidf_matrix = clean_and_plot(data['文本'], ' ', False)"
   ]
  },
  {
   "cell_type": "code",
   "execution_count": 6,
   "metadata": {},
   "outputs": [
    {
     "data": {
      "text/plain": [
       "(27768, 57961)"
      ]
     },
     "execution_count": 6,
     "metadata": {},
     "output_type": "execute_result"
    }
   ],
   "source": [
    "tfidf_matrix.shape"
   ]
  },
  {
   "cell_type": "code",
   "execution_count": 7,
   "metadata": {},
   "outputs": [
    {
     "ename": "",
     "evalue": "",
     "output_type": "error",
     "traceback": [
      "\u001b[1;31mCanceled future for execute_request message before replies were done"
     ]
    },
    {
     "ename": "",
     "evalue": "",
     "output_type": "error",
     "traceback": [
      "\u001b[1;31m在当前单元格或上一个单元格中执行代码时 Kernel 崩溃。请查看单元格中的代码，以确定故障的可能原因。有关详细信息，请单击 <a href='https://aka.ms/vscodeJupyterKernelCrash'>此处</a>。有关更多详细信息，请查看 Jupyter <a href='command:jupyter.viewOutput'>log</a>。"
     ]
    }
   ],
   "source": [
    "from sklearn.decomposition import PCA\n",
    "pca = PCA(n_components=0.95)\n",
    "pca.fit(tfidf_matrix)\n",
    "newX = pd.DataFrame((pca.fit_transform(tfidf_matrix)))\n",
    "print(newX.shape)"
   ]
  },
  {
   "cell_type": "code",
   "execution_count": null,
   "metadata": {},
   "outputs": [],
   "source": [
    "import tensorflow as tf\n",
    "from keras.layers import LSTM, Dense, Input\n",
    "from keras.models import Model\n",
    "def mylstm(x):\n",
    "    inputs = Input(shape=(x))\n",
    "    encoded = tf.reshape(inputs,[-1,1,57961])\n",
    "    encoded = LSTM(2048, activation = 'tanh',return_sequences=True)(encoded)\n",
    "    encoded = LSTM(1024, activation = 'tanh',return_sequences=True)(encoded)\n",
    "    encoded = LSTM(512, activation = 'tanh',return_sequences=True)(encoded)\n",
    "    encoded = LSTM(256, activation = 'tanh',return_sequences=True)(encoded)\n",
    "    encoded = LSTM(128, activation = 'tanh',return_sequences=True)(encoded)\n",
    "    encoded = LSTM(64, activation = 'tanh',return_sequences=True)(encoded)\n",
    "    encoded_output = LSTM(10, activation = 'tanh')(encoded)\n",
    "    encoded_output = Dense(1,activation=\"sigmoid\")(encoded_output)\n",
    "    model = Model(inputs=[inputs], outputs=encoded_output)\n",
    "    return model\n",
    "\n",
    "checkpoint_save_root\n",
    "checkpoint_save_path = checkpoint_save_root+'IRLG5_'+str(param[0])+'_'+str(param[1])+'_'+str(param[2])+'_.h5'"
   ]
  },
  {
   "cell_type": "code",
   "execution_count": null,
   "metadata": {},
   "outputs": [],
   "source": [
    "from sklearn import preprocessing\n",
    "\n",
    "enc=preprocessing.LabelEncoder()\n",
    "enc=enc.fit(['angry', 'happy', 'neutral', 'surprise', 'sad', 'fear'])\n",
    "data = enc.transform(data)"
   ]
  }
 ],
 "metadata": {
  "kernelspec": {
   "display_name": "tensorflow",
   "language": "python",
   "name": "python3"
  },
  "language_info": {
   "codemirror_mode": {
    "name": "ipython",
    "version": 3
   },
   "file_extension": ".py",
   "mimetype": "text/x-python",
   "name": "python",
   "nbconvert_exporter": "python",
   "pygments_lexer": "ipython3",
   "version": "3.9.16"
  },
  "orig_nbformat": 4
 },
 "nbformat": 4,
 "nbformat_minor": 2
}
