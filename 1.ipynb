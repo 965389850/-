{
 "cells": [
  {
   "cell_type": "code",
   "execution_count": 1,
   "metadata": {},
   "outputs": [],
   "source": [
    "# from keras.models import Model\n",
    "# from keras.layers import LSTM, Dense, Input\n",
    "# import tensorflow as tf\n",
    "from functions import *\n",
    "import pandas as pd\n",
    "\n",
    "\n",
    "data = pd.read_csv(\"smp2020dataset/train/usual_train.csv\").astype(str)\n",
    "data.drop('数据编号', axis=1, inplace=True)\n",
    "data = data[data.情绪标签.isin(['happy', 'neutral', 'sad'])]\n"
   ]
  },
  {
   "cell_type": "code",
   "execution_count": 2,
   "metadata": {},
   "outputs": [
    {
     "name": "stderr",
     "output_type": "stream",
     "text": [
      "Building prefix dict from the default dictionary ...\n",
      "Loading model from cache /var/folders/s9/b33d8sfd6c3626p96qkb_s240000gn/T/jieba.cache\n",
      "Loading model cost 0.253 seconds.\n",
      "Prefix dict has been built successfully.\n"
     ]
    },
    {
     "name": "stdout",
     "output_type": "stream",
     "text": [
      "输出词频前十的词：\n",
      " [('龟速', 44390), ('龟肉', 44389), ('龟策', 44388), ('龟头', 44387), ('龟兹', 44386), ('龚自珍', 44385), ('龙骨', 44384), ('龙骑', 44383), ('龙马', 44382), ('龙门', 44381)]\n"
     ]
    }
   ],
   "source": [
    "word, tfidf_matrix = clean_and_plot(data['文本'], ' ', False)"
   ]
  },
  {
   "cell_type": "code",
   "execution_count": 3,
   "metadata": {},
   "outputs": [],
   "source": [
    "from sklearn.decomposition import PCA\n",
    "pca = PCA(n_components=0.95)\n",
    "pca.fit(tfidf_matrix)\n",
    "newX = pd.DataFrame((pca.fit_transform(tfidf_matrix)))\n",
    "print(newX.shape)"
   ]
  }
 ],
 "metadata": {
  "kernelspec": {
   "display_name": "tensorflow",
   "language": "python",
   "name": "python3"
  },
  "language_info": {
   "codemirror_mode": {
    "name": "ipython",
    "version": 3
   },
   "file_extension": ".py",
   "mimetype": "text/x-python",
   "name": "python",
   "nbconvert_exporter": "python",
   "pygments_lexer": "ipython3",
   "version": "3.9.16"
  },
  "orig_nbformat": 4
 },
 "nbformat": 4,
 "nbformat_minor": 2
}
